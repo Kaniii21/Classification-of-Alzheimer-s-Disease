{
 "cells": [
  {
   "cell_type": "markdown",
   "metadata": {},
   "source": [
    "# Exploratory Analysis and Data Preprocessing"
   ]
  },
  {
   "cell_type": "code",
   "execution_count": 5,
   "metadata": {},
   "outputs": [
    {
     "name": "stdout",
     "output_type": "stream",
     "text": [
      "<class 'pandas.core.frame.DataFrame'>\n",
      "RangeIndex: 2149 entries, 0 to 2148\n",
      "Data columns (total 35 columns):\n",
      " #   Column                     Non-Null Count  Dtype  \n",
      "---  ------                     --------------  -----  \n",
      " 0   PatientID                  2149 non-null   int64  \n",
      " 1   Age                        2149 non-null   int64  \n",
      " 2   Gender                     2149 non-null   int64  \n",
      " 3   Ethnicity                  2149 non-null   int64  \n",
      " 4   EducationLevel             2149 non-null   int64  \n",
      " 5   BMI                        2149 non-null   float64\n",
      " 6   Smoking                    2149 non-null   int64  \n",
      " 7   AlcoholConsumption         2149 non-null   float64\n",
      " 8   PhysicalActivity           2149 non-null   float64\n",
      " 9   DietQuality                2149 non-null   float64\n",
      " 10  SleepQuality               2149 non-null   float64\n",
      " 11  FamilyHistoryAlzheimers    2149 non-null   int64  \n",
      " 12  CardiovascularDisease      2149 non-null   int64  \n",
      " 13  Diabetes                   2149 non-null   int64  \n",
      " 14  Depression                 2149 non-null   int64  \n",
      " 15  HeadInjury                 2149 non-null   int64  \n",
      " 16  Hypertension               2149 non-null   int64  \n",
      " 17  SystolicBP                 2149 non-null   int64  \n",
      " 18  DiastolicBP                2149 non-null   int64  \n",
      " 19  CholesterolTotal           2149 non-null   float64\n",
      " 20  CholesterolLDL             2149 non-null   float64\n",
      " 21  CholesterolHDL             2149 non-null   float64\n",
      " 22  CholesterolTriglycerides   2149 non-null   float64\n",
      " 23  MMSE                       2149 non-null   float64\n",
      " 24  FunctionalAssessment       2149 non-null   float64\n",
      " 25  MemoryComplaints           2149 non-null   int64  \n",
      " 26  BehavioralProblems         2149 non-null   int64  \n",
      " 27  ADL                        2149 non-null   float64\n",
      " 28  Confusion                  2149 non-null   int64  \n",
      " 29  Disorientation             2149 non-null   int64  \n",
      " 30  PersonalityChanges         2149 non-null   int64  \n",
      " 31  DifficultyCompletingTasks  2149 non-null   int64  \n",
      " 32  Forgetfulness              2149 non-null   int64  \n",
      " 33  Diagnosis                  2149 non-null   int64  \n",
      " 34  DoctorInCharge             2149 non-null   object \n",
      "dtypes: float64(12), int64(22), object(1)\n",
      "memory usage: 587.7+ KB\n"
     ]
    },
    {
     "data": {
      "text/plain": [
       "(None,\n",
       "    PatientID  Age  Gender  Ethnicity  EducationLevel        BMI  Smoking  \\\n",
       " 0       4751   73       0          0               2  22.927749        0   \n",
       " 1       4752   89       0          0               0  26.827681        0   \n",
       " 2       4753   73       0          3               1  17.795882        0   \n",
       " 3       4754   74       1          0               1  33.800817        1   \n",
       " 4       4755   89       0          0               0  20.716974        0   \n",
       " \n",
       "    AlcoholConsumption  PhysicalActivity  DietQuality  ...  MemoryComplaints  \\\n",
       " 0           13.297218          6.327112     1.347214  ...                 0   \n",
       " 1            4.542524          7.619885     0.518767  ...                 0   \n",
       " 2           19.555085          7.844988     1.826335  ...                 0   \n",
       " 3           12.209266          8.428001     7.435604  ...                 0   \n",
       " 4           18.454356          6.310461     0.795498  ...                 0   \n",
       " \n",
       "    BehavioralProblems       ADL  Confusion  Disorientation  \\\n",
       " 0                   0  1.725883          0               0   \n",
       " 1                   0  2.592424          0               0   \n",
       " 2                   0  7.119548          0               1   \n",
       " 3                   1  6.481226          0               0   \n",
       " 4                   0  0.014691          0               0   \n",
       " \n",
       "    PersonalityChanges  DifficultyCompletingTasks  Forgetfulness  Diagnosis  \\\n",
       " 0                   0                          1              0          0   \n",
       " 1                   0                          0              1          0   \n",
       " 2                   0                          1              0          0   \n",
       " 3                   0                          0              0          0   \n",
       " 4                   1                          1              0          0   \n",
       " \n",
       "    DoctorInCharge  \n",
       " 0       XXXConfid  \n",
       " 1       XXXConfid  \n",
       " 2       XXXConfid  \n",
       " 3       XXXConfid  \n",
       " 4       XXXConfid  \n",
       " \n",
       " [5 rows x 35 columns])"
      ]
     },
     "execution_count": 5,
     "metadata": {},
     "output_type": "execute_result"
    }
   ],
   "source": [
    "# Load the dataset\n",
    "import pandas as pd\n",
    "\n",
    "data = pd.read_csv(r'C:\\Users\\Kanika Barik\\projects\\Classification-of-Alzheimer-s-Disease\\alzheimers_disease_data.csv')\n",
    "\n",
    "# Display basic information and the first few rows of the dataset\n",
    "data_info = data.info()\n",
    "data_head = data.head()\n",
    "\n",
    "data_info, data_head"
   ]
  },
  {
   "cell_type": "markdown",
   "metadata": {},
   "source": [
    "The dataset contains 35 columns with a mix of numerical and categorical data. Here's a summary:\n",
    "\n",
    "Target Variable: Diagnosis (likely 0 for no Alzheimer's, 1 for Alzheimer's).\n",
    "Features: Includes demographics (e.g., Age, Gender), lifestyle factors (e.g., Smoking, AlcoholConsumption), medical data (e.g., CholesterolTotal, MMSE), and behavioral issues.\n",
    "Non-Predictive Columns: PatientID (identifier) and DoctorInCharge (likely confidential and non-predictive)."
   ]
  },
  {
   "cell_type": "markdown",
   "metadata": {},
   "source": [
    "# Train-Test Split"
   ]
  },
  {
   "cell_type": "code",
   "execution_count": 6,
   "metadata": {},
   "outputs": [
    {
     "data": {
      "text/plain": [
       "Diagnosis\n",
       "0    0.646347\n",
       "1    0.353653\n",
       "Name: proportion, dtype: float64"
      ]
     },
     "execution_count": 6,
     "metadata": {},
     "output_type": "execute_result"
    }
   ],
   "source": [
    "# Drop non-predictive columns\n",
    "data_cleaned = data.drop(columns=['PatientID', 'DoctorInCharge'])\n",
    "\n",
    "# Check class distribution of the target variable\n",
    "class_distribution = data_cleaned['Diagnosis'].value_counts(normalize=True)\n",
    "\n",
    "# Display class distribution\n",
    "class_distribution\n"
   ]
  },
  {
   "cell_type": "markdown",
   "metadata": {},
   "source": [
    "The dataset is slightly imbalanced:\n",
    "\n",
    "No Alzheimer's (0): 64.63% of cases.\n",
    "Alzheimer's (1): 35.37% of cases.\n",
    "To address this imbalance during modeling, we can use techniques such as oversampling (e.g., SMOTE), undersampling, or class weighting."
   ]
  },
  {
   "cell_type": "markdown",
   "metadata": {},
   "source": [
    "Encode categorical features if needed, scale numerical features for models sensitive to scaling, and then split the dataset into training and testing sets.\n"
   ]
  },
  {
   "cell_type": "code",
   "execution_count": 7,
   "metadata": {},
   "outputs": [
    {
     "name": "stdout",
     "output_type": "stream",
     "text": [
      "Requirement already satisfied: scikit-learn in c:\\python312\\lib\\site-packages (1.5.2)\n",
      "Requirement already satisfied: numpy>=1.19.5 in c:\\python312\\lib\\site-packages (from scikit-learn) (1.26.4)\n",
      "Requirement already satisfied: scipy>=1.6.0 in c:\\python312\\lib\\site-packages (from scikit-learn) (1.13.1)\n",
      "Requirement already satisfied: joblib>=1.2.0 in c:\\python312\\lib\\site-packages (from scikit-learn) (1.4.2)\n",
      "Requirement already satisfied: threadpoolctl>=3.1.0 in c:\\python312\\lib\\site-packages (from scikit-learn) (3.5.0)\n",
      "Note: you may need to restart the kernel to use updated packages.\n"
     ]
    },
    {
     "name": "stderr",
     "output_type": "stream",
     "text": [
      "\n",
      "[notice] A new release of pip is available: 24.0 -> 24.3.1\n",
      "[notice] To update, run: python.exe -m pip install --upgrade pip\n"
     ]
    },
    {
     "data": {
      "text/plain": [
       "((1719, 32), (430, 32), (1719,), (430,))"
      ]
     },
     "execution_count": 7,
     "metadata": {},
     "output_type": "execute_result"
    }
   ],
   "source": [
    "# Install scikit-learn\n",
    "%pip install scikit-learn\n",
    "\n",
    "from sklearn.model_selection import train_test_split\n",
    "from sklearn.preprocessing import StandardScaler\n",
    "\n",
    "# Separate features and target variable\n",
    "X = data_cleaned.drop(columns=['Diagnosis'])\n",
    "y = data_cleaned['Diagnosis']\n",
    "\n",
    "# Split the dataset into training and testing sets (80-20 split)\n",
    "X_train, X_test, y_train, y_test = train_test_split(X, y, test_size=0.2, random_state=42, stratify=y)\n",
    "\n",
    "# Scale numerical features\n",
    "scaler = StandardScaler()\n",
    "X_train_scaled = scaler.fit_transform(X_train)\n",
    "X_test_scaled = scaler.transform(X_test)\n",
    "\n",
    "# Check shapes to confirm split and scaling\n",
    "X_train_scaled.shape, X_test_scaled.shape, y_train.shape, y_test.shape\n"
   ]
  },
  {
   "cell_type": "code",
   "execution_count": null,
   "metadata": {},
   "outputs": [],
   "source": []
  },
  {
   "cell_type": "markdown",
   "metadata": {},
   "source": []
  }
 ],
 "metadata": {
  "kernelspec": {
   "display_name": "Python 3",
   "language": "python",
   "name": "python3"
  },
  "language_info": {
   "codemirror_mode": {
    "name": "ipython",
    "version": 3
   },
   "file_extension": ".py",
   "mimetype": "text/x-python",
   "name": "python",
   "nbconvert_exporter": "python",
   "pygments_lexer": "ipython3",
   "version": "3.12.4"
  }
 },
 "nbformat": 4,
 "nbformat_minor": 2
}
